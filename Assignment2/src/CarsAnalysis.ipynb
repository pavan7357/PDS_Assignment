{
  "cells": [
    {
      "cell_type": "code",
      "execution_count": 157,
      "metadata": {
        "id": "xECRnt-PNwQh"
      },
      "outputs": [],
      "source": [
        "import pandas as pd\n",
        "import numpy as np\n",
        "from datetime import datetime"
      ]
    },
    {
      "cell_type": "code",
      "execution_count": 158,
      "metadata": {
        "id": "IaimgwH8NwQj"
      },
      "outputs": [],
      "source": [
        "raw_data = pd.read_csv('/content/cars_rawdata.csv')"
      ]
    },
    {
      "cell_type": "code",
      "execution_count": 159,
      "metadata": {
        "colab": {
          "base_uri": "https://localhost:8080/",
          "height": 206
        },
        "id": "fm2o4Ut0NwQj",
        "outputId": "07d57c3c-9404-4371-e01e-9ec346563734"
      },
      "outputs": [
        {
          "output_type": "execute_result",
          "data": {
            "text/plain": [
              "   Unnamed: 0                              Name    Location  Year  \\\n",
              "0           1  Hyundai Creta 1.6 CRDi SX Option        Pune  2015   \n",
              "1           2                      Honda Jazz V     Chennai  2011   \n",
              "2           3                 Maruti Ertiga VDI     Chennai  2012   \n",
              "3           4   Audi A4 New 2.0 TDI Multitronic  Coimbatore  2013   \n",
              "4           6            Nissan Micra Diesel XV      Jaipur  2013   \n",
              "\n",
              "   Kilometers_Driven Fuel_Type Transmission Owner_Type     Mileage   Engine  \\\n",
              "0              41000    Diesel       Manual      First  19.67 kmpl  1582 CC   \n",
              "1              46000    Petrol       Manual      First    13 km/kg  1199 CC   \n",
              "2              87000    Diesel       Manual      First  20.77 kmpl  1248 CC   \n",
              "3              40670    Diesel    Automatic     Second   15.2 kmpl  1968 CC   \n",
              "4              86999    Diesel       Manual      First  23.08 kmpl  1461 CC   \n",
              "\n",
              "       Power  Seats  New_Price  Price  \n",
              "0  126.2 bhp    5.0        NaN  12.50  \n",
              "1   88.7 bhp    5.0  8.61 Lakh   4.50  \n",
              "2  88.76 bhp    7.0        NaN   6.00  \n",
              "3  140.8 bhp    5.0        NaN  17.74  \n",
              "4   63.1 bhp    5.0        NaN   3.50  "
            ],
            "text/html": [
              "\n",
              "  <div id=\"df-f2f2a1ea-e475-432b-aaf1-d5a5646a2a0f\" class=\"colab-df-container\">\n",
              "    <div>\n",
              "<style scoped>\n",
              "    .dataframe tbody tr th:only-of-type {\n",
              "        vertical-align: middle;\n",
              "    }\n",
              "\n",
              "    .dataframe tbody tr th {\n",
              "        vertical-align: top;\n",
              "    }\n",
              "\n",
              "    .dataframe thead th {\n",
              "        text-align: right;\n",
              "    }\n",
              "</style>\n",
              "<table border=\"1\" class=\"dataframe\">\n",
              "  <thead>\n",
              "    <tr style=\"text-align: right;\">\n",
              "      <th></th>\n",
              "      <th>Unnamed: 0</th>\n",
              "      <th>Name</th>\n",
              "      <th>Location</th>\n",
              "      <th>Year</th>\n",
              "      <th>Kilometers_Driven</th>\n",
              "      <th>Fuel_Type</th>\n",
              "      <th>Transmission</th>\n",
              "      <th>Owner_Type</th>\n",
              "      <th>Mileage</th>\n",
              "      <th>Engine</th>\n",
              "      <th>Power</th>\n",
              "      <th>Seats</th>\n",
              "      <th>New_Price</th>\n",
              "      <th>Price</th>\n",
              "    </tr>\n",
              "  </thead>\n",
              "  <tbody>\n",
              "    <tr>\n",
              "      <th>0</th>\n",
              "      <td>1</td>\n",
              "      <td>Hyundai Creta 1.6 CRDi SX Option</td>\n",
              "      <td>Pune</td>\n",
              "      <td>2015</td>\n",
              "      <td>41000</td>\n",
              "      <td>Diesel</td>\n",
              "      <td>Manual</td>\n",
              "      <td>First</td>\n",
              "      <td>19.67 kmpl</td>\n",
              "      <td>1582 CC</td>\n",
              "      <td>126.2 bhp</td>\n",
              "      <td>5.0</td>\n",
              "      <td>NaN</td>\n",
              "      <td>12.50</td>\n",
              "    </tr>\n",
              "    <tr>\n",
              "      <th>1</th>\n",
              "      <td>2</td>\n",
              "      <td>Honda Jazz V</td>\n",
              "      <td>Chennai</td>\n",
              "      <td>2011</td>\n",
              "      <td>46000</td>\n",
              "      <td>Petrol</td>\n",
              "      <td>Manual</td>\n",
              "      <td>First</td>\n",
              "      <td>13 km/kg</td>\n",
              "      <td>1199 CC</td>\n",
              "      <td>88.7 bhp</td>\n",
              "      <td>5.0</td>\n",
              "      <td>8.61 Lakh</td>\n",
              "      <td>4.50</td>\n",
              "    </tr>\n",
              "    <tr>\n",
              "      <th>2</th>\n",
              "      <td>3</td>\n",
              "      <td>Maruti Ertiga VDI</td>\n",
              "      <td>Chennai</td>\n",
              "      <td>2012</td>\n",
              "      <td>87000</td>\n",
              "      <td>Diesel</td>\n",
              "      <td>Manual</td>\n",
              "      <td>First</td>\n",
              "      <td>20.77 kmpl</td>\n",
              "      <td>1248 CC</td>\n",
              "      <td>88.76 bhp</td>\n",
              "      <td>7.0</td>\n",
              "      <td>NaN</td>\n",
              "      <td>6.00</td>\n",
              "    </tr>\n",
              "    <tr>\n",
              "      <th>3</th>\n",
              "      <td>4</td>\n",
              "      <td>Audi A4 New 2.0 TDI Multitronic</td>\n",
              "      <td>Coimbatore</td>\n",
              "      <td>2013</td>\n",
              "      <td>40670</td>\n",
              "      <td>Diesel</td>\n",
              "      <td>Automatic</td>\n",
              "      <td>Second</td>\n",
              "      <td>15.2 kmpl</td>\n",
              "      <td>1968 CC</td>\n",
              "      <td>140.8 bhp</td>\n",
              "      <td>5.0</td>\n",
              "      <td>NaN</td>\n",
              "      <td>17.74</td>\n",
              "    </tr>\n",
              "    <tr>\n",
              "      <th>4</th>\n",
              "      <td>6</td>\n",
              "      <td>Nissan Micra Diesel XV</td>\n",
              "      <td>Jaipur</td>\n",
              "      <td>2013</td>\n",
              "      <td>86999</td>\n",
              "      <td>Diesel</td>\n",
              "      <td>Manual</td>\n",
              "      <td>First</td>\n",
              "      <td>23.08 kmpl</td>\n",
              "      <td>1461 CC</td>\n",
              "      <td>63.1 bhp</td>\n",
              "      <td>5.0</td>\n",
              "      <td>NaN</td>\n",
              "      <td>3.50</td>\n",
              "    </tr>\n",
              "  </tbody>\n",
              "</table>\n",
              "</div>\n",
              "    <div class=\"colab-df-buttons\">\n",
              "\n",
              "  <div class=\"colab-df-container\">\n",
              "    <button class=\"colab-df-convert\" onclick=\"convertToInteractive('df-f2f2a1ea-e475-432b-aaf1-d5a5646a2a0f')\"\n",
              "            title=\"Convert this dataframe to an interactive table.\"\n",
              "            style=\"display:none;\">\n",
              "\n",
              "  <svg xmlns=\"http://www.w3.org/2000/svg\" height=\"24px\" viewBox=\"0 -960 960 960\">\n",
              "    <path d=\"M120-120v-720h720v720H120Zm60-500h600v-160H180v160Zm220 220h160v-160H400v160Zm0 220h160v-160H400v160ZM180-400h160v-160H180v160Zm440 0h160v-160H620v160ZM180-180h160v-160H180v160Zm440 0h160v-160H620v160Z\"/>\n",
              "  </svg>\n",
              "    </button>\n",
              "\n",
              "  <style>\n",
              "    .colab-df-container {\n",
              "      display:flex;\n",
              "      gap: 12px;\n",
              "    }\n",
              "\n",
              "    .colab-df-convert {\n",
              "      background-color: #E8F0FE;\n",
              "      border: none;\n",
              "      border-radius: 50%;\n",
              "      cursor: pointer;\n",
              "      display: none;\n",
              "      fill: #1967D2;\n",
              "      height: 32px;\n",
              "      padding: 0 0 0 0;\n",
              "      width: 32px;\n",
              "    }\n",
              "\n",
              "    .colab-df-convert:hover {\n",
              "      background-color: #E2EBFA;\n",
              "      box-shadow: 0px 1px 2px rgba(60, 64, 67, 0.3), 0px 1px 3px 1px rgba(60, 64, 67, 0.15);\n",
              "      fill: #174EA6;\n",
              "    }\n",
              "\n",
              "    .colab-df-buttons div {\n",
              "      margin-bottom: 4px;\n",
              "    }\n",
              "\n",
              "    [theme=dark] .colab-df-convert {\n",
              "      background-color: #3B4455;\n",
              "      fill: #D2E3FC;\n",
              "    }\n",
              "\n",
              "    [theme=dark] .colab-df-convert:hover {\n",
              "      background-color: #434B5C;\n",
              "      box-shadow: 0px 1px 3px 1px rgba(0, 0, 0, 0.15);\n",
              "      filter: drop-shadow(0px 1px 2px rgba(0, 0, 0, 0.3));\n",
              "      fill: #FFFFFF;\n",
              "    }\n",
              "  </style>\n",
              "\n",
              "    <script>\n",
              "      const buttonEl =\n",
              "        document.querySelector('#df-f2f2a1ea-e475-432b-aaf1-d5a5646a2a0f button.colab-df-convert');\n",
              "      buttonEl.style.display =\n",
              "        google.colab.kernel.accessAllowed ? 'block' : 'none';\n",
              "\n",
              "      async function convertToInteractive(key) {\n",
              "        const element = document.querySelector('#df-f2f2a1ea-e475-432b-aaf1-d5a5646a2a0f');\n",
              "        const dataTable =\n",
              "          await google.colab.kernel.invokeFunction('convertToInteractive',\n",
              "                                                    [key], {});\n",
              "        if (!dataTable) return;\n",
              "\n",
              "        const docLinkHtml = 'Like what you see? Visit the ' +\n",
              "          '<a target=\"_blank\" href=https://colab.research.google.com/notebooks/data_table.ipynb>data table notebook</a>'\n",
              "          + ' to learn more about interactive tables.';\n",
              "        element.innerHTML = '';\n",
              "        dataTable['output_type'] = 'display_data';\n",
              "        await google.colab.output.renderOutput(dataTable, element);\n",
              "        const docLink = document.createElement('div');\n",
              "        docLink.innerHTML = docLinkHtml;\n",
              "        element.appendChild(docLink);\n",
              "      }\n",
              "    </script>\n",
              "  </div>\n",
              "\n",
              "\n",
              "<div id=\"df-c62ae286-a729-44df-a634-195816b8d682\">\n",
              "  <button class=\"colab-df-quickchart\" onclick=\"quickchart('df-c62ae286-a729-44df-a634-195816b8d682')\"\n",
              "            title=\"Suggest charts\"\n",
              "            style=\"display:none;\">\n",
              "\n",
              "<svg xmlns=\"http://www.w3.org/2000/svg\" height=\"24px\"viewBox=\"0 0 24 24\"\n",
              "     width=\"24px\">\n",
              "    <g>\n",
              "        <path d=\"M19 3H5c-1.1 0-2 .9-2 2v14c0 1.1.9 2 2 2h14c1.1 0 2-.9 2-2V5c0-1.1-.9-2-2-2zM9 17H7v-7h2v7zm4 0h-2V7h2v10zm4 0h-2v-4h2v4z\"/>\n",
              "    </g>\n",
              "</svg>\n",
              "  </button>\n",
              "\n",
              "<style>\n",
              "  .colab-df-quickchart {\n",
              "      --bg-color: #E8F0FE;\n",
              "      --fill-color: #1967D2;\n",
              "      --hover-bg-color: #E2EBFA;\n",
              "      --hover-fill-color: #174EA6;\n",
              "      --disabled-fill-color: #AAA;\n",
              "      --disabled-bg-color: #DDD;\n",
              "  }\n",
              "\n",
              "  [theme=dark] .colab-df-quickchart {\n",
              "      --bg-color: #3B4455;\n",
              "      --fill-color: #D2E3FC;\n",
              "      --hover-bg-color: #434B5C;\n",
              "      --hover-fill-color: #FFFFFF;\n",
              "      --disabled-bg-color: #3B4455;\n",
              "      --disabled-fill-color: #666;\n",
              "  }\n",
              "\n",
              "  .colab-df-quickchart {\n",
              "    background-color: var(--bg-color);\n",
              "    border: none;\n",
              "    border-radius: 50%;\n",
              "    cursor: pointer;\n",
              "    display: none;\n",
              "    fill: var(--fill-color);\n",
              "    height: 32px;\n",
              "    padding: 0;\n",
              "    width: 32px;\n",
              "  }\n",
              "\n",
              "  .colab-df-quickchart:hover {\n",
              "    background-color: var(--hover-bg-color);\n",
              "    box-shadow: 0 1px 2px rgba(60, 64, 67, 0.3), 0 1px 3px 1px rgba(60, 64, 67, 0.15);\n",
              "    fill: var(--button-hover-fill-color);\n",
              "  }\n",
              "\n",
              "  .colab-df-quickchart-complete:disabled,\n",
              "  .colab-df-quickchart-complete:disabled:hover {\n",
              "    background-color: var(--disabled-bg-color);\n",
              "    fill: var(--disabled-fill-color);\n",
              "    box-shadow: none;\n",
              "  }\n",
              "\n",
              "  .colab-df-spinner {\n",
              "    border: 2px solid var(--fill-color);\n",
              "    border-color: transparent;\n",
              "    border-bottom-color: var(--fill-color);\n",
              "    animation:\n",
              "      spin 1s steps(1) infinite;\n",
              "  }\n",
              "\n",
              "  @keyframes spin {\n",
              "    0% {\n",
              "      border-color: transparent;\n",
              "      border-bottom-color: var(--fill-color);\n",
              "      border-left-color: var(--fill-color);\n",
              "    }\n",
              "    20% {\n",
              "      border-color: transparent;\n",
              "      border-left-color: var(--fill-color);\n",
              "      border-top-color: var(--fill-color);\n",
              "    }\n",
              "    30% {\n",
              "      border-color: transparent;\n",
              "      border-left-color: var(--fill-color);\n",
              "      border-top-color: var(--fill-color);\n",
              "      border-right-color: var(--fill-color);\n",
              "    }\n",
              "    40% {\n",
              "      border-color: transparent;\n",
              "      border-right-color: var(--fill-color);\n",
              "      border-top-color: var(--fill-color);\n",
              "    }\n",
              "    60% {\n",
              "      border-color: transparent;\n",
              "      border-right-color: var(--fill-color);\n",
              "    }\n",
              "    80% {\n",
              "      border-color: transparent;\n",
              "      border-right-color: var(--fill-color);\n",
              "      border-bottom-color: var(--fill-color);\n",
              "    }\n",
              "    90% {\n",
              "      border-color: transparent;\n",
              "      border-bottom-color: var(--fill-color);\n",
              "    }\n",
              "  }\n",
              "</style>\n",
              "\n",
              "  <script>\n",
              "    async function quickchart(key) {\n",
              "      const quickchartButtonEl =\n",
              "        document.querySelector('#' + key + ' button');\n",
              "      quickchartButtonEl.disabled = true;  // To prevent multiple clicks.\n",
              "      quickchartButtonEl.classList.add('colab-df-spinner');\n",
              "      try {\n",
              "        const charts = await google.colab.kernel.invokeFunction(\n",
              "            'suggestCharts', [key], {});\n",
              "      } catch (error) {\n",
              "        console.error('Error during call to suggestCharts:', error);\n",
              "      }\n",
              "      quickchartButtonEl.classList.remove('colab-df-spinner');\n",
              "      quickchartButtonEl.classList.add('colab-df-quickchart-complete');\n",
              "    }\n",
              "    (() => {\n",
              "      let quickchartButtonEl =\n",
              "        document.querySelector('#df-c62ae286-a729-44df-a634-195816b8d682 button');\n",
              "      quickchartButtonEl.style.display =\n",
              "        google.colab.kernel.accessAllowed ? 'block' : 'none';\n",
              "    })();\n",
              "  </script>\n",
              "</div>\n",
              "\n",
              "    </div>\n",
              "  </div>\n"
            ],
            "application/vnd.google.colaboratory.intrinsic+json": {
              "type": "dataframe",
              "variable_name": "raw_data",
              "summary": "{\n  \"name\": \"raw_data\",\n  \"rows\": 5847,\n  \"fields\": [\n    {\n      \"column\": \"Unnamed: 0\",\n      \"properties\": {\n        \"dtype\": \"number\",\n        \"std\": 1736,\n        \"min\": 1,\n        \"max\": 6018,\n        \"num_unique_values\": 5847,\n        \"samples\": [\n          5259,\n          3413,\n          4365\n        ],\n        \"semantic_type\": \"\",\n        \"description\": \"\"\n      }\n    },\n    {\n      \"column\": \"Name\",\n      \"properties\": {\n        \"dtype\": \"category\",\n        \"num_unique_values\": 1804,\n        \"samples\": [\n          \"BMW 7 Series 2007-2012 750Li\",\n          \"Maruti Ertiga SHVS VDI\",\n          \"Mahindra XUV300 W8 Diesel\"\n        ],\n        \"semantic_type\": \"\",\n        \"description\": \"\"\n      }\n    },\n    {\n      \"column\": \"Location\",\n      \"properties\": {\n        \"dtype\": \"category\",\n        \"num_unique_values\": 11,\n        \"samples\": [\n          \"Kochi\",\n          \"Pune\",\n          \"Hyderabad\"\n        ],\n        \"semantic_type\": \"\",\n        \"description\": \"\"\n      }\n    },\n    {\n      \"column\": \"Year\",\n      \"properties\": {\n        \"dtype\": \"number\",\n        \"std\": 3,\n        \"min\": 1998,\n        \"max\": 2019,\n        \"num_unique_values\": 22,\n        \"samples\": [\n          2015,\n          2006,\n          2010\n        ],\n        \"semantic_type\": \"\",\n        \"description\": \"\"\n      }\n    },\n    {\n      \"column\": \"Kilometers_Driven\",\n      \"properties\": {\n        \"dtype\": \"number\",\n        \"std\": 92379,\n        \"min\": 171,\n        \"max\": 6500000,\n        \"num_unique_values\": 3019,\n        \"samples\": [\n          56075,\n          75421,\n          143275\n        ],\n        \"semantic_type\": \"\",\n        \"description\": \"\"\n      }\n    },\n    {\n      \"column\": \"Fuel_Type\",\n      \"properties\": {\n        \"dtype\": \"category\",\n        \"num_unique_values\": 3,\n        \"samples\": [\n          \"Diesel\",\n          \"Petrol\",\n          \"Electric\"\n        ],\n        \"semantic_type\": \"\",\n        \"description\": \"\"\n      }\n    },\n    {\n      \"column\": \"Transmission\",\n      \"properties\": {\n        \"dtype\": \"category\",\n        \"num_unique_values\": 2,\n        \"samples\": [\n          \"Automatic\",\n          \"Manual\"\n        ],\n        \"semantic_type\": \"\",\n        \"description\": \"\"\n      }\n    },\n    {\n      \"column\": \"Owner_Type\",\n      \"properties\": {\n        \"dtype\": \"category\",\n        \"num_unique_values\": 4,\n        \"samples\": [\n          \"Second\",\n          \"Third\"\n        ],\n        \"semantic_type\": \"\",\n        \"description\": \"\"\n      }\n    },\n    {\n      \"column\": \"Mileage\",\n      \"properties\": {\n        \"dtype\": \"category\",\n        \"num_unique_values\": 419,\n        \"samples\": [\n          \"18.16 kmpl\",\n          \"23.84 kmpl\"\n        ],\n        \"semantic_type\": \"\",\n        \"description\": \"\"\n      }\n    },\n    {\n      \"column\": \"Engine\",\n      \"properties\": {\n        \"dtype\": \"category\",\n        \"num_unique_values\": 140,\n        \"samples\": [\n          \"2495 CC\",\n          \"1794 CC\"\n        ],\n        \"semantic_type\": \"\",\n        \"description\": \"\"\n      }\n    },\n    {\n      \"column\": \"Power\",\n      \"properties\": {\n        \"dtype\": \"category\",\n        \"num_unique_values\": 361,\n        \"samples\": [\n          \"62.1 bhp\",\n          \"77 bhp\"\n        ],\n        \"semantic_type\": \"\",\n        \"description\": \"\"\n      }\n    },\n    {\n      \"column\": \"Seats\",\n      \"properties\": {\n        \"dtype\": \"number\",\n        \"std\": 0.8066681227181947,\n        \"min\": 2.0,\n        \"max\": 10.0,\n        \"num_unique_values\": 8,\n        \"samples\": [\n          7.0,\n          2.0\n        ],\n        \"semantic_type\": \"\",\n        \"description\": \"\"\n      }\n    },\n    {\n      \"column\": \"New_Price\",\n      \"properties\": {\n        \"dtype\": \"category\",\n        \"num_unique_values\": 534,\n        \"samples\": [\n          \"10.48 Lakh\",\n          \"14.1 Lakh\"\n        ],\n        \"semantic_type\": \"\",\n        \"description\": \"\"\n      }\n    },\n    {\n      \"column\": \"Price\",\n      \"properties\": {\n        \"dtype\": \"number\",\n        \"std\": 11.275965706808474,\n        \"min\": 0.44,\n        \"max\": 160.0,\n        \"num_unique_values\": 1366,\n        \"samples\": [\n          3.98,\n          3.78\n        ],\n        \"semantic_type\": \"\",\n        \"description\": \"\"\n      }\n    }\n  ]\n}"
            }
          },
          "metadata": {},
          "execution_count": 159
        }
      ],
      "source": [
        "raw_data.head()"
      ]
    },
    {
      "cell_type": "markdown",
      "metadata": {
        "id": "tc7E6nCENwQk"
      },
      "source": [
        "#`(a&b)Handle missing values and remove units from the columns`"
      ]
    },
    {
      "cell_type": "code",
      "execution_count": 160,
      "metadata": {
        "colab": {
          "base_uri": "https://localhost:8080/"
        },
        "id": "7Hd_g5QMNwQl",
        "outputId": "f94b8855-9328-4be1-8911-54a7d56834bd"
      },
      "outputs": [
        {
          "output_type": "stream",
          "name": "stdout",
          "text": [
            "Missing Values:\n",
            "Unnamed: 0              0\n",
            "Name                    0\n",
            "Location                0\n",
            "Year                    0\n",
            "Kilometers_Driven       0\n",
            "Fuel_Type               0\n",
            "Transmission            0\n",
            "Owner_Type              0\n",
            "Mileage                 2\n",
            "Engine                 36\n",
            "Power                  36\n",
            "Seats                  38\n",
            "New_Price            5032\n",
            "Price                   0\n",
            "dtype: int64\n"
          ]
        }
      ],
      "source": [
        "# Check for missing values in each column\n",
        "missing_values = raw_data.isnull().sum()\n",
        "print(\"Missing Values:\")\n",
        "print(missing_values)"
      ]
    },
    {
      "cell_type": "markdown",
      "metadata": {
        "id": "bQsfaobYNwQm"
      },
      "source": [
        "#### **By above observation, Mileage, Engine, Power, Seats & New_Price has null or missing values.**"
      ]
    },
    {
      "cell_type": "markdown",
      "metadata": {
        "id": "G05HEMa8NwQm"
      },
      "source": [
        "### **1. Handle Mileage column**"
      ]
    },
    {
      "cell_type": "markdown",
      "source": [
        "The error shows sample('19.67 kmpl') cannot convert to numeric.\n",
        "\n",
        "**Solution**: Remove the units."
      ],
      "metadata": {
        "id": "HXI2DI3BsMUF"
      }
    },
    {
      "cell_type": "code",
      "execution_count": 161,
      "metadata": {
        "colab": {
          "base_uri": "https://localhost:8080/"
        },
        "id": "6eAfGMMcNwQn",
        "outputId": "1fef8e21-7360-4231-d740-d41ca9fa0ec9"
      },
      "outputs": [
        {
          "output_type": "stream",
          "name": "stdout",
          "text": [
            "Before Handling, No of Missing Values in Mileage Column: 2\n",
            "After Handling, No of Missing Values in Mileage Column: 0\n"
          ]
        }
      ],
      "source": [
        "# Check missing values\n",
        "print(\"Before Handling, No of Missing Values in Mileage Column:\" ,  raw_data['Mileage'].isnull().sum())\n",
        "\n",
        "# Regular Expression is used in str.extract() function to extract substrings\n",
        "# \\d+: Matches one or more digits.\n",
        "# \\.: Matches a literal dot (period).\n",
        "# \\d+: Matches one or more digits after the dot.\n",
        "# astype(float) function is then used to convert the extracted substrings(str) to float.\n",
        "raw_data['Mileage'] = raw_data['Mileage'].str.extract('(\\d+\\.\\d+|\\d+)').astype(float)\n",
        "\n",
        "# Mileage is reported in kmpl,\n",
        "# it's reasonable to assume that missing values are likely to be missing at random.\n",
        "# In such cases, filling with the median is a common strategy.\n",
        "raw_data['Mileage'].fillna(raw_data['Mileage'].median(), inplace=True)\n",
        "\n",
        "# Check missing values\n",
        "print(\"After Handling, No of Missing Values in Mileage Column:\" ,  raw_data['Mileage'].isnull().sum())\n"
      ]
    },
    {
      "cell_type": "markdown",
      "metadata": {
        "id": "FppEjMX8NwQr"
      },
      "source": [
        "### **2. Handle Engine column**"
      ]
    },
    {
      "cell_type": "markdown",
      "source": [
        "The error shows sample('300 CC') cannot convert to numeric.\n",
        "\n",
        "**Solution**: Remove the units."
      ],
      "metadata": {
        "id": "hy8WY0ELvq_4"
      }
    },
    {
      "cell_type": "code",
      "execution_count": 162,
      "metadata": {
        "colab": {
          "base_uri": "https://localhost:8080/"
        },
        "id": "IXAFOf9pNwQr",
        "outputId": "11938df1-5250-44d8-b0eb-a5e41a4fb51b"
      },
      "outputs": [
        {
          "output_type": "stream",
          "name": "stdout",
          "text": [
            "After Handling, No of Missing Values in Engine Column: 36\n",
            "Before Handling, No of Missing Values in Engine Column: 0\n"
          ]
        }
      ],
      "source": [
        "# Check missing values\n",
        "print(\"After Handling, No of Missing Values in Engine Column:\" ,  raw_data['Engine'].isnull().sum())\n",
        "# Remove units\n",
        "raw_data['Engine'] = raw_data['Engine'].str.extract('(\\d+\\.\\d+|\\d+)').astype(float)\n",
        "# Missing values for engine size are often handled by filling the mean value\n",
        "raw_data['Engine'].fillna(raw_data['Engine'].mean(), inplace=True)\n",
        "# Check missing values\n",
        "print(\"Before Handling, No of Missing Values in Engine Column:\" , raw_data['Engine'].isnull().sum())"
      ]
    },
    {
      "cell_type": "markdown",
      "source": [
        "### **3. Handle Power Column**"
      ],
      "metadata": {
        "id": "qwvA9XCykEko"
      }
    },
    {
      "cell_type": "markdown",
      "source": [
        "The error shows sample('39.09 bhp') cannot convert to numeric.\n",
        "\n",
        "**Solution**: Remove the units."
      ],
      "metadata": {
        "id": "ncgmclG1v0NC"
      }
    },
    {
      "cell_type": "code",
      "source": [
        "# Check missing values\n",
        "print(\"After Handling, No of Missing Values in Power Column:\" ,  raw_data['Power'].isnull().sum())\n",
        "# Remove units\n",
        "raw_data['Power'] = raw_data['Power'].str.extract('(\\d+\\.\\d+|\\d+)').astype(float)\n",
        "# Missing values for Power are often handled by filling the mean value\n",
        "raw_data['Power'].fillna(raw_data['Power'].mean(), inplace=True)\n",
        "# Check missing values\n",
        "print(\"Before Handling, No of Missing Values in Power Column:\" , raw_data['Power'].isnull().sum())"
      ],
      "metadata": {
        "colab": {
          "base_uri": "https://localhost:8080/"
        },
        "id": "1rh7p8C_kRPd",
        "outputId": "f3509eaa-eac2-4e9b-b641-6ce3efec82ff"
      },
      "execution_count": 163,
      "outputs": [
        {
          "output_type": "stream",
          "name": "stdout",
          "text": [
            "After Handling, No of Missing Values in Power Column: 36\n",
            "Before Handling, No of Missing Values in Power Column: 0\n"
          ]
        }
      ]
    },
    {
      "cell_type": "markdown",
      "source": [
        "### **4. Handle Seats Column**"
      ],
      "metadata": {
        "id": "m6Gk5f8plOFu"
      }
    },
    {
      "cell_type": "code",
      "source": [
        "# Check missing values\n",
        "print(\"Before Handling, No of Missing Values in Seats Column:\" ,  raw_data['Seats'].isnull().sum())\n",
        "\n",
        "# Missing values for seats of the car are often handled by filling the mean value\n",
        "raw_data['Seats'].fillna(raw_data['Seats'].mean(), inplace=True)\n",
        "# Check missing values\n",
        "print(\"After Handling, No of Missing Values in Seats Column:\" ,  raw_data['Seats'].isnull().sum())"
      ],
      "metadata": {
        "colab": {
          "base_uri": "https://localhost:8080/"
        },
        "id": "hhkxqII3lWAY",
        "outputId": "afa57cc9-4f6c-4d00-f234-8fcf58ebb336"
      },
      "execution_count": 164,
      "outputs": [
        {
          "output_type": "stream",
          "name": "stdout",
          "text": [
            "Before Handling, No of Missing Values in Seats Column: 38\n",
            "After Handling, No of Missing Values in Seats Column: 0\n"
          ]
        }
      ]
    },
    {
      "cell_type": "markdown",
      "source": [
        "### **5. Handle New_Price Column**"
      ],
      "metadata": {
        "id": "cavk_Q_9pYzh"
      }
    },
    {
      "cell_type": "code",
      "source": [
        "# Drop the New_Price column since it has a high number of missing values\n",
        "raw_data.drop('New_Price', axis=1, inplace=True)"
      ],
      "metadata": {
        "id": "T0lIHPiOpZMj"
      },
      "execution_count": 165,
      "outputs": []
    },
    {
      "cell_type": "markdown",
      "source": [
        "**View the no null values handled DataFrame.**"
      ],
      "metadata": {
        "id": "sgUSXFswqkJT"
      }
    },
    {
      "cell_type": "code",
      "source": [
        "missing_values = raw_data.isnull().sum()\n",
        "missing_values"
      ],
      "metadata": {
        "colab": {
          "base_uri": "https://localhost:8080/"
        },
        "id": "uZcRwFzjpeIX",
        "outputId": "3b06a54d-a82b-48e5-f876-004495dda209"
      },
      "execution_count": 166,
      "outputs": [
        {
          "output_type": "execute_result",
          "data": {
            "text/plain": [
              "Unnamed: 0           0\n",
              "Name                 0\n",
              "Location             0\n",
              "Year                 0\n",
              "Kilometers_Driven    0\n",
              "Fuel_Type            0\n",
              "Transmission         0\n",
              "Owner_Type           0\n",
              "Mileage              0\n",
              "Engine               0\n",
              "Power                0\n",
              "Seats                0\n",
              "Price                0\n",
              "dtype: int64"
            ]
          },
          "metadata": {},
          "execution_count": 166
        }
      ]
    },
    {
      "cell_type": "markdown",
      "source": [
        "# `(c)  Change the categorical variables (“Fuel_Type” and “Transmission”) into numerical one hot encoded value`"
      ],
      "metadata": {
        "id": "g9JcqKfRrSq7"
      }
    },
    {
      "cell_type": "code",
      "source": [
        "# Encoding Categorical Variables by using get_dummies function from pandas\n",
        "raw_data = pd.get_dummies(raw_data, columns=['Fuel_Type', 'Transmission'])\n",
        "\n",
        "# Display the modified dataset\n",
        "print(raw_data.head())"
      ],
      "metadata": {
        "colab": {
          "base_uri": "https://localhost:8080/"
        },
        "id": "XN7Mqqv2ruaP",
        "outputId": "18946070-9818-42b7-ef66-e7dc7b6d40c3"
      },
      "execution_count": 167,
      "outputs": [
        {
          "output_type": "stream",
          "name": "stdout",
          "text": [
            "   Unnamed: 0                              Name    Location  Year  \\\n",
            "0           1  Hyundai Creta 1.6 CRDi SX Option        Pune  2015   \n",
            "1           2                      Honda Jazz V     Chennai  2011   \n",
            "2           3                 Maruti Ertiga VDI     Chennai  2012   \n",
            "3           4   Audi A4 New 2.0 TDI Multitronic  Coimbatore  2013   \n",
            "4           6            Nissan Micra Diesel XV      Jaipur  2013   \n",
            "\n",
            "   Kilometers_Driven Owner_Type  Mileage  Engine   Power  Seats  Price  \\\n",
            "0              41000      First    19.67  1582.0  126.20    5.0  12.50   \n",
            "1              46000      First    13.00  1199.0   88.70    5.0   4.50   \n",
            "2              87000      First    20.77  1248.0   88.76    7.0   6.00   \n",
            "3              40670     Second    15.20  1968.0  140.80    5.0  17.74   \n",
            "4              86999      First    23.08  1461.0   63.10    5.0   3.50   \n",
            "\n",
            "   Fuel_Type_Diesel  Fuel_Type_Electric  Fuel_Type_Petrol  \\\n",
            "0                 1                   0                 0   \n",
            "1                 0                   0                 1   \n",
            "2                 1                   0                 0   \n",
            "3                 1                   0                 0   \n",
            "4                 1                   0                 0   \n",
            "\n",
            "   Transmission_Automatic  Transmission_Manual  \n",
            "0                       0                    1  \n",
            "1                       0                    1  \n",
            "2                       0                    1  \n",
            "3                       1                    0  \n",
            "4                       0                    1  \n"
          ]
        }
      ]
    },
    {
      "cell_type": "markdown",
      "source": [
        "# `(d)  Create one more feature and add this column to the dataset. `"
      ],
      "metadata": {
        "id": "qc4TPAcRwrm1"
      }
    },
    {
      "cell_type": "markdown",
      "source": [
        "### **Creating Years_in_service feature which define the age of the car.**"
      ],
      "metadata": {
        "id": "K8ANCIktyUX6"
      }
    },
    {
      "cell_type": "code",
      "source": [
        "# Calculate current year\n",
        "current_year = datetime.now().year\n",
        "\n",
        "# Subtract \"Year\" column from the current year to calculate the age of the car\n",
        "raw_data['Years_in_Service'] = current_year - raw_data['Year']\n",
        "\n",
        "# Display the modified dataset with the new feature\n",
        "print(raw_data.head())"
      ],
      "metadata": {
        "colab": {
          "base_uri": "https://localhost:8080/"
        },
        "id": "jd3dO_VCq_D4",
        "outputId": "65cbb4e6-1a18-4422-c938-1c7605cdfa99"
      },
      "execution_count": 168,
      "outputs": [
        {
          "output_type": "stream",
          "name": "stdout",
          "text": [
            "   Unnamed: 0                              Name    Location  Year  \\\n",
            "0           1  Hyundai Creta 1.6 CRDi SX Option        Pune  2015   \n",
            "1           2                      Honda Jazz V     Chennai  2011   \n",
            "2           3                 Maruti Ertiga VDI     Chennai  2012   \n",
            "3           4   Audi A4 New 2.0 TDI Multitronic  Coimbatore  2013   \n",
            "4           6            Nissan Micra Diesel XV      Jaipur  2013   \n",
            "\n",
            "   Kilometers_Driven Owner_Type  Mileage  Engine   Power  Seats  Price  \\\n",
            "0              41000      First    19.67  1582.0  126.20    5.0  12.50   \n",
            "1              46000      First    13.00  1199.0   88.70    5.0   4.50   \n",
            "2              87000      First    20.77  1248.0   88.76    7.0   6.00   \n",
            "3              40670     Second    15.20  1968.0  140.80    5.0  17.74   \n",
            "4              86999      First    23.08  1461.0   63.10    5.0   3.50   \n",
            "\n",
            "   Fuel_Type_Diesel  Fuel_Type_Electric  Fuel_Type_Petrol  \\\n",
            "0                 1                   0                 0   \n",
            "1                 0                   0                 1   \n",
            "2                 1                   0                 0   \n",
            "3                 1                   0                 0   \n",
            "4                 1                   0                 0   \n",
            "\n",
            "   Transmission_Automatic  Transmission_Manual  Years_in_Service  \n",
            "0                       0                    1                 9  \n",
            "1                       0                    1                13  \n",
            "2                       0                    1                12  \n",
            "3                       1                    0                11  \n",
            "4                       0                    1                11  \n"
          ]
        }
      ]
    },
    {
      "cell_type": "markdown",
      "source": [
        "#### **Creating Mileage_Category feature to define mileage value by category.**"
      ],
      "metadata": {
        "id": "7NPrZePl1Ef5"
      }
    },
    {
      "cell_type": "code",
      "source": [
        "# Define the mileage categories\n",
        "mileage_bins = [0, 10, 20, 30, float('inf')]\n",
        "mileage_labels = ['Very Low', 'Low', 'Medium', 'High']\n",
        "\n",
        "# Create a new feature 'Mileage_Category' based on the mileage groups\n",
        "raw_data['Mileage_Category'] = pd.cut(raw_data['Mileage'], bins=mileage_bins, labels=mileage_labels, right=False)\n",
        "\n",
        "# Display the modified dataset with the new feature\n",
        "print(raw_data.head())\n"
      ],
      "metadata": {
        "colab": {
          "base_uri": "https://localhost:8080/"
        },
        "id": "p2wiiYeQxOaX",
        "outputId": "27c16b48-d60d-409d-abd8-529b291b3563"
      },
      "execution_count": 169,
      "outputs": [
        {
          "output_type": "stream",
          "name": "stdout",
          "text": [
            "   Unnamed: 0                              Name    Location  Year  \\\n",
            "0           1  Hyundai Creta 1.6 CRDi SX Option        Pune  2015   \n",
            "1           2                      Honda Jazz V     Chennai  2011   \n",
            "2           3                 Maruti Ertiga VDI     Chennai  2012   \n",
            "3           4   Audi A4 New 2.0 TDI Multitronic  Coimbatore  2013   \n",
            "4           6            Nissan Micra Diesel XV      Jaipur  2013   \n",
            "\n",
            "   Kilometers_Driven Owner_Type  Mileage  Engine   Power  Seats  Price  \\\n",
            "0              41000      First    19.67  1582.0  126.20    5.0  12.50   \n",
            "1              46000      First    13.00  1199.0   88.70    5.0   4.50   \n",
            "2              87000      First    20.77  1248.0   88.76    7.0   6.00   \n",
            "3              40670     Second    15.20  1968.0  140.80    5.0  17.74   \n",
            "4              86999      First    23.08  1461.0   63.10    5.0   3.50   \n",
            "\n",
            "   Fuel_Type_Diesel  Fuel_Type_Electric  Fuel_Type_Petrol  \\\n",
            "0                 1                   0                 0   \n",
            "1                 0                   0                 1   \n",
            "2                 1                   0                 0   \n",
            "3                 1                   0                 0   \n",
            "4                 1                   0                 0   \n",
            "\n",
            "   Transmission_Automatic  Transmission_Manual  Years_in_Service  \\\n",
            "0                       0                    1                 9   \n",
            "1                       0                    1                13   \n",
            "2                       0                    1                12   \n",
            "3                       1                    0                11   \n",
            "4                       0                    1                11   \n",
            "\n",
            "  Mileage_Category  \n",
            "0              Low  \n",
            "1              Low  \n",
            "2           Medium  \n",
            "3              Low  \n",
            "4           Medium  \n"
          ]
        }
      ]
    },
    {
      "cell_type": "markdown",
      "source": [
        "# `(e) Perform select, filter, rename, mutate, arrange and summarize with group by operations (or their equivalent operations in python) on this dataset.`"
      ],
      "metadata": {
        "id": "IXTQIjjk1lcv"
      }
    },
    {
      "cell_type": "code",
      "source": [
        "# Selecting required columns\n",
        "selected_data = raw_data[['Name', 'Location', 'Year', 'Mileage', 'Price', 'Years_in_Service']]\n",
        "# Displaying the results\n",
        "print(\"Selected Data:\")\n",
        "print(selected_data.head())"
      ],
      "metadata": {
        "colab": {
          "base_uri": "https://localhost:8080/"
        },
        "id": "LmgJ6QVs19Nm",
        "outputId": "4358edd3-31f8-4ec3-ee08-a937a67ab996"
      },
      "execution_count": 170,
      "outputs": [
        {
          "output_type": "stream",
          "name": "stdout",
          "text": [
            "Selected Data:\n",
            "                               Name    Location  Year  Mileage  Price  \\\n",
            "0  Hyundai Creta 1.6 CRDi SX Option        Pune  2015    19.67  12.50   \n",
            "1                      Honda Jazz V     Chennai  2011    13.00   4.50   \n",
            "2                 Maruti Ertiga VDI     Chennai  2012    20.77   6.00   \n",
            "3   Audi A4 New 2.0 TDI Multitronic  Coimbatore  2013    15.20  17.74   \n",
            "4            Nissan Micra Diesel XV      Jaipur  2013    23.08   3.50   \n",
            "\n",
            "   Years_in_Service  \n",
            "0                 9  \n",
            "1                13  \n",
            "2                12  \n",
            "3                11  \n",
            "4                11  \n"
          ]
        }
      ]
    },
    {
      "cell_type": "code",
      "source": [
        "# Filtering data based on Year\n",
        "filtered_data = raw_data[raw_data['Year'] >= 2017]\n",
        "print(\"\\nFiltered Data (Year >= 2019):\")\n",
        "print(filtered_data.head())"
      ],
      "metadata": {
        "colab": {
          "base_uri": "https://localhost:8080/"
        },
        "id": "N9frLR5z2Rbk",
        "outputId": "61e83934-6564-4f14-c1d7-2e38fd2d9403"
      },
      "execution_count": 171,
      "outputs": [
        {
          "output_type": "stream",
          "name": "stdout",
          "text": [
            "\n",
            "Filtered Data (Year >= 2019):\n",
            "    Unnamed: 0                                     Name Location  Year  \\\n",
            "8           10                         Maruti Ciaz Zeta    Kochi  2018   \n",
            "15          17                    Maruti Swift DDiS VDI   Jaipur  2017   \n",
            "26          28                      Honda WRV i-VTEC VX    Kochi  2018   \n",
            "34          36            Maruti Vitara Brezza ZDi Plus    Kochi  2018   \n",
            "35          37  Mahindra KUV 100 mFALCON G80 K6 5str AW    Delhi  2017   \n",
            "\n",
            "    Kilometers_Driven Owner_Type  Mileage  Engine   Power  Seats  Price  \\\n",
            "8               25692      First    21.56  1462.0  103.25    5.0   9.95   \n",
            "15              25000      First    28.40  1248.0   74.00    5.0   5.99   \n",
            "26              37430      First    17.50  1199.0   88.70    5.0   9.90   \n",
            "34              50075      First    24.30  1248.0   88.50    5.0   8.63   \n",
            "35              52000      First    18.15  1198.0   82.00    5.0   4.85   \n",
            "\n",
            "    Fuel_Type_Diesel  Fuel_Type_Electric  Fuel_Type_Petrol  \\\n",
            "8                  0                   0                 1   \n",
            "15                 1                   0                 0   \n",
            "26                 0                   0                 1   \n",
            "34                 1                   0                 0   \n",
            "35                 0                   0                 1   \n",
            "\n",
            "    Transmission_Automatic  Transmission_Manual  Years_in_Service  \\\n",
            "8                        0                    1                 6   \n",
            "15                       0                    1                 7   \n",
            "26                       0                    1                 6   \n",
            "34                       0                    1                 6   \n",
            "35                       0                    1                 7   \n",
            "\n",
            "   Mileage_Category  \n",
            "8            Medium  \n",
            "15           Medium  \n",
            "26              Low  \n",
            "34           Medium  \n",
            "35              Low  \n"
          ]
        }
      ]
    },
    {
      "cell_type": "code",
      "source": [
        "# Renaming columns\n",
        "renamed_data = raw_data.rename(columns={'Engine': 'Engine_Displacement', 'Power': 'Horsepower'})\n",
        "\n",
        "print(\"\\nRenamed Columns:\")\n",
        "print(renamed_data.head())"
      ],
      "metadata": {
        "colab": {
          "base_uri": "https://localhost:8080/"
        },
        "id": "VNm4871_2m7w",
        "outputId": "f043a73e-9d12-403b-dded-c3458e48c572"
      },
      "execution_count": 172,
      "outputs": [
        {
          "output_type": "stream",
          "name": "stdout",
          "text": [
            "\n",
            "Renamed Columns:\n",
            "   Unnamed: 0                              Name    Location  Year  \\\n",
            "0           1  Hyundai Creta 1.6 CRDi SX Option        Pune  2015   \n",
            "1           2                      Honda Jazz V     Chennai  2011   \n",
            "2           3                 Maruti Ertiga VDI     Chennai  2012   \n",
            "3           4   Audi A4 New 2.0 TDI Multitronic  Coimbatore  2013   \n",
            "4           6            Nissan Micra Diesel XV      Jaipur  2013   \n",
            "\n",
            "   Kilometers_Driven Owner_Type  Mileage  Engine_Displacement  Horsepower  \\\n",
            "0              41000      First    19.67               1582.0      126.20   \n",
            "1              46000      First    13.00               1199.0       88.70   \n",
            "2              87000      First    20.77               1248.0       88.76   \n",
            "3              40670     Second    15.20               1968.0      140.80   \n",
            "4              86999      First    23.08               1461.0       63.10   \n",
            "\n",
            "   Seats  Price  Fuel_Type_Diesel  Fuel_Type_Electric  Fuel_Type_Petrol  \\\n",
            "0    5.0  12.50                 1                   0                 0   \n",
            "1    5.0   4.50                 0                   0                 1   \n",
            "2    7.0   6.00                 1                   0                 0   \n",
            "3    5.0  17.74                 1                   0                 0   \n",
            "4    5.0   3.50                 1                   0                 0   \n",
            "\n",
            "   Transmission_Automatic  Transmission_Manual  Years_in_Service  \\\n",
            "0                       0                    1                 9   \n",
            "1                       0                    1                13   \n",
            "2                       0                    1                12   \n",
            "3                       1                    0                11   \n",
            "4                       0                    1                11   \n",
            "\n",
            "  Mileage_Category  \n",
            "0              Low  \n",
            "1              Low  \n",
            "2           Medium  \n",
            "3              Low  \n",
            "4           Medium  \n"
          ]
        }
      ]
    },
    {
      "cell_type": "code",
      "source": [
        "# Mutating data (creating new columns)\n",
        "raw_data['Price_Category'] = pd.cut(raw_data['Price'], bins=[0, 5, 10, 15, 20, 25, 30], labels=['<5', '5-10', '10-15', '15-20', '20-25', '25-30'])\n",
        "\n",
        "print(\"\\nMutated Data (Added Price_Category column):\")\n",
        "print(raw_data.head())"
      ],
      "metadata": {
        "colab": {
          "base_uri": "https://localhost:8080/"
        },
        "id": "xVWx4_hM2qS2",
        "outputId": "a026b601-f0ad-4fce-993d-186626001582"
      },
      "execution_count": 173,
      "outputs": [
        {
          "output_type": "stream",
          "name": "stdout",
          "text": [
            "\n",
            "Mutated Data (Added Price_Category column):\n",
            "   Unnamed: 0                              Name    Location  Year  \\\n",
            "0           1  Hyundai Creta 1.6 CRDi SX Option        Pune  2015   \n",
            "1           2                      Honda Jazz V     Chennai  2011   \n",
            "2           3                 Maruti Ertiga VDI     Chennai  2012   \n",
            "3           4   Audi A4 New 2.0 TDI Multitronic  Coimbatore  2013   \n",
            "4           6            Nissan Micra Diesel XV      Jaipur  2013   \n",
            "\n",
            "   Kilometers_Driven Owner_Type  Mileage  Engine   Power  Seats  Price  \\\n",
            "0              41000      First    19.67  1582.0  126.20    5.0  12.50   \n",
            "1              46000      First    13.00  1199.0   88.70    5.0   4.50   \n",
            "2              87000      First    20.77  1248.0   88.76    7.0   6.00   \n",
            "3              40670     Second    15.20  1968.0  140.80    5.0  17.74   \n",
            "4              86999      First    23.08  1461.0   63.10    5.0   3.50   \n",
            "\n",
            "   Fuel_Type_Diesel  Fuel_Type_Electric  Fuel_Type_Petrol  \\\n",
            "0                 1                   0                 0   \n",
            "1                 0                   0                 1   \n",
            "2                 1                   0                 0   \n",
            "3                 1                   0                 0   \n",
            "4                 1                   0                 0   \n",
            "\n",
            "   Transmission_Automatic  Transmission_Manual  Years_in_Service  \\\n",
            "0                       0                    1                 9   \n",
            "1                       0                    1                13   \n",
            "2                       0                    1                12   \n",
            "3                       1                    0                11   \n",
            "4                       0                    1                11   \n",
            "\n",
            "  Mileage_Category Price_Category  \n",
            "0              Low          10-15  \n",
            "1              Low             <5  \n",
            "2           Medium           5-10  \n",
            "3              Low          15-20  \n",
            "4           Medium             <5  \n"
          ]
        }
      ]
    },
    {
      "cell_type": "code",
      "source": [
        "# Arranging data based on Year in desc order\n",
        "arranged_data = raw_data.sort_values(by='Year', ascending=False)\n",
        "\n",
        "print(\"\\nArranged Data (Sorted by Year in descending order):\")\n",
        "print(arranged_data.head())"
      ],
      "metadata": {
        "colab": {
          "base_uri": "https://localhost:8080/"
        },
        "id": "tSAR5DOk2vIw",
        "outputId": "01f92858-7e35-4d5f-96ab-a56a51237d73"
      },
      "execution_count": 174,
      "outputs": [
        {
          "output_type": "stream",
          "name": "stdout",
          "text": [
            "\n",
            "Arranged Data (Sorted by Year in descending order):\n",
            "      Unnamed: 0                             Name    Location  Year  \\\n",
            "5405        5560        Renault KWID RXT Optional       Kochi  2019   \n",
            "942          975  Ford Endeavour 2.2 Trend AT 4X2       Kochi  2019   \n",
            "5533        5690        Maruti Omni 5 Seater BSIV  Coimbatore  2019   \n",
            "770          796            Mahindra XUV500 W9 AT  Coimbatore  2019   \n",
            "4267        4399       Maruti Swift Dzire AMT ZDI     Chennai  2019   \n",
            "\n",
            "      Kilometers_Driven Owner_Type  Mileage  Engine  Power  Seats  Price  \\\n",
            "5405               6568      First    25.17   799.0   53.3    5.0   5.09   \n",
            "942               11209      First    12.62  2198.0  158.0    7.0  31.15   \n",
            "5533               4721      First    14.00   796.0   35.0    5.0   4.11   \n",
            "770               19654      First    14.00  2179.0  155.0    7.0  17.63   \n",
            "4267              65000      First    26.59  1248.0   74.0    5.0   6.75   \n",
            "\n",
            "      Fuel_Type_Diesel  Fuel_Type_Electric  Fuel_Type_Petrol  \\\n",
            "5405                 0                   0                 1   \n",
            "942                  1                   0                 0   \n",
            "5533                 0                   0                 1   \n",
            "770                  1                   0                 0   \n",
            "4267                 1                   0                 0   \n",
            "\n",
            "      Transmission_Automatic  Transmission_Manual  Years_in_Service  \\\n",
            "5405                       0                    1                 5   \n",
            "942                        1                    0                 5   \n",
            "5533                       0                    1                 5   \n",
            "770                        1                    0                 5   \n",
            "4267                       1                    0                 5   \n",
            "\n",
            "     Mileage_Category Price_Category  \n",
            "5405           Medium           5-10  \n",
            "942               Low            NaN  \n",
            "5533              Low             <5  \n",
            "770               Low          15-20  \n",
            "4267           Medium           5-10  \n"
          ]
        }
      ]
    },
    {
      "cell_type": "code",
      "source": [
        "# Summarizing data with group by operations\n",
        "summary_data = raw_data.groupby('Location')['Price'].mean()\n",
        "\n",
        "print(\"\\nSummary Data (Average Price by Location):\")\n",
        "print(summary_data)"
      ],
      "metadata": {
        "colab": {
          "base_uri": "https://localhost:8080/"
        },
        "id": "PyyB8nIc2zlJ",
        "outputId": "238dfd94-3419-4382-fdb5-f16f484ce5c9"
      },
      "execution_count": 175,
      "outputs": [
        {
          "output_type": "stream",
          "name": "stdout",
          "text": [
            "\n",
            "Summary Data (Average Price by Location):\n",
            "Location\n",
            "Ahmedabad      8.567248\n",
            "Bangalore     13.482670\n",
            "Chennai        7.958340\n",
            "Coimbatore    15.160206\n",
            "Delhi          9.881944\n",
            "Hyderabad      9.997423\n",
            "Jaipur         5.916725\n",
            "Kochi         11.309109\n",
            "Kolkata        5.733924\n",
            "Mumbai         9.592546\n",
            "Pune           6.951000\n",
            "Name: Price, dtype: float64\n"
          ]
        }
      ]
    },
    {
      "cell_type": "markdown",
      "source": [
        "# `Save raw_data(DataFrame) in New CSV`"
      ],
      "metadata": {
        "id": "GTX7OAu739z6"
      }
    },
    {
      "cell_type": "code",
      "source": [
        "raw_data.head()"
      ],
      "metadata": {
        "colab": {
          "base_uri": "https://localhost:8080/",
          "height": 417
        },
        "id": "AQ6raQ3S3LEz",
        "outputId": "d6a6c106-4206-4eda-e23c-ed8ebb7c0cb4"
      },
      "execution_count": 176,
      "outputs": [
        {
          "output_type": "execute_result",
          "data": {
            "text/plain": [
              "   Unnamed: 0                              Name    Location  Year  \\\n",
              "0           1  Hyundai Creta 1.6 CRDi SX Option        Pune  2015   \n",
              "1           2                      Honda Jazz V     Chennai  2011   \n",
              "2           3                 Maruti Ertiga VDI     Chennai  2012   \n",
              "3           4   Audi A4 New 2.0 TDI Multitronic  Coimbatore  2013   \n",
              "4           6            Nissan Micra Diesel XV      Jaipur  2013   \n",
              "\n",
              "   Kilometers_Driven Owner_Type  Mileage  Engine   Power  Seats  Price  \\\n",
              "0              41000      First    19.67  1582.0  126.20    5.0  12.50   \n",
              "1              46000      First    13.00  1199.0   88.70    5.0   4.50   \n",
              "2              87000      First    20.77  1248.0   88.76    7.0   6.00   \n",
              "3              40670     Second    15.20  1968.0  140.80    5.0  17.74   \n",
              "4              86999      First    23.08  1461.0   63.10    5.0   3.50   \n",
              "\n",
              "   Fuel_Type_Diesel  Fuel_Type_Electric  Fuel_Type_Petrol  \\\n",
              "0                 1                   0                 0   \n",
              "1                 0                   0                 1   \n",
              "2                 1                   0                 0   \n",
              "3                 1                   0                 0   \n",
              "4                 1                   0                 0   \n",
              "\n",
              "   Transmission_Automatic  Transmission_Manual  Years_in_Service  \\\n",
              "0                       0                    1                 9   \n",
              "1                       0                    1                13   \n",
              "2                       0                    1                12   \n",
              "3                       1                    0                11   \n",
              "4                       0                    1                11   \n",
              "\n",
              "  Mileage_Category Price_Category  \n",
              "0              Low          10-15  \n",
              "1              Low             <5  \n",
              "2           Medium           5-10  \n",
              "3              Low          15-20  \n",
              "4           Medium             <5  "
            ],
            "text/html": [
              "\n",
              "  <div id=\"df-e932c2e9-fa77-437f-add2-e7ad44476f6f\" class=\"colab-df-container\">\n",
              "    <div>\n",
              "<style scoped>\n",
              "    .dataframe tbody tr th:only-of-type {\n",
              "        vertical-align: middle;\n",
              "    }\n",
              "\n",
              "    .dataframe tbody tr th {\n",
              "        vertical-align: top;\n",
              "    }\n",
              "\n",
              "    .dataframe thead th {\n",
              "        text-align: right;\n",
              "    }\n",
              "</style>\n",
              "<table border=\"1\" class=\"dataframe\">\n",
              "  <thead>\n",
              "    <tr style=\"text-align: right;\">\n",
              "      <th></th>\n",
              "      <th>Unnamed: 0</th>\n",
              "      <th>Name</th>\n",
              "      <th>Location</th>\n",
              "      <th>Year</th>\n",
              "      <th>Kilometers_Driven</th>\n",
              "      <th>Owner_Type</th>\n",
              "      <th>Mileage</th>\n",
              "      <th>Engine</th>\n",
              "      <th>Power</th>\n",
              "      <th>Seats</th>\n",
              "      <th>Price</th>\n",
              "      <th>Fuel_Type_Diesel</th>\n",
              "      <th>Fuel_Type_Electric</th>\n",
              "      <th>Fuel_Type_Petrol</th>\n",
              "      <th>Transmission_Automatic</th>\n",
              "      <th>Transmission_Manual</th>\n",
              "      <th>Years_in_Service</th>\n",
              "      <th>Mileage_Category</th>\n",
              "      <th>Price_Category</th>\n",
              "    </tr>\n",
              "  </thead>\n",
              "  <tbody>\n",
              "    <tr>\n",
              "      <th>0</th>\n",
              "      <td>1</td>\n",
              "      <td>Hyundai Creta 1.6 CRDi SX Option</td>\n",
              "      <td>Pune</td>\n",
              "      <td>2015</td>\n",
              "      <td>41000</td>\n",
              "      <td>First</td>\n",
              "      <td>19.67</td>\n",
              "      <td>1582.0</td>\n",
              "      <td>126.20</td>\n",
              "      <td>5.0</td>\n",
              "      <td>12.50</td>\n",
              "      <td>1</td>\n",
              "      <td>0</td>\n",
              "      <td>0</td>\n",
              "      <td>0</td>\n",
              "      <td>1</td>\n",
              "      <td>9</td>\n",
              "      <td>Low</td>\n",
              "      <td>10-15</td>\n",
              "    </tr>\n",
              "    <tr>\n",
              "      <th>1</th>\n",
              "      <td>2</td>\n",
              "      <td>Honda Jazz V</td>\n",
              "      <td>Chennai</td>\n",
              "      <td>2011</td>\n",
              "      <td>46000</td>\n",
              "      <td>First</td>\n",
              "      <td>13.00</td>\n",
              "      <td>1199.0</td>\n",
              "      <td>88.70</td>\n",
              "      <td>5.0</td>\n",
              "      <td>4.50</td>\n",
              "      <td>0</td>\n",
              "      <td>0</td>\n",
              "      <td>1</td>\n",
              "      <td>0</td>\n",
              "      <td>1</td>\n",
              "      <td>13</td>\n",
              "      <td>Low</td>\n",
              "      <td>&lt;5</td>\n",
              "    </tr>\n",
              "    <tr>\n",
              "      <th>2</th>\n",
              "      <td>3</td>\n",
              "      <td>Maruti Ertiga VDI</td>\n",
              "      <td>Chennai</td>\n",
              "      <td>2012</td>\n",
              "      <td>87000</td>\n",
              "      <td>First</td>\n",
              "      <td>20.77</td>\n",
              "      <td>1248.0</td>\n",
              "      <td>88.76</td>\n",
              "      <td>7.0</td>\n",
              "      <td>6.00</td>\n",
              "      <td>1</td>\n",
              "      <td>0</td>\n",
              "      <td>0</td>\n",
              "      <td>0</td>\n",
              "      <td>1</td>\n",
              "      <td>12</td>\n",
              "      <td>Medium</td>\n",
              "      <td>5-10</td>\n",
              "    </tr>\n",
              "    <tr>\n",
              "      <th>3</th>\n",
              "      <td>4</td>\n",
              "      <td>Audi A4 New 2.0 TDI Multitronic</td>\n",
              "      <td>Coimbatore</td>\n",
              "      <td>2013</td>\n",
              "      <td>40670</td>\n",
              "      <td>Second</td>\n",
              "      <td>15.20</td>\n",
              "      <td>1968.0</td>\n",
              "      <td>140.80</td>\n",
              "      <td>5.0</td>\n",
              "      <td>17.74</td>\n",
              "      <td>1</td>\n",
              "      <td>0</td>\n",
              "      <td>0</td>\n",
              "      <td>1</td>\n",
              "      <td>0</td>\n",
              "      <td>11</td>\n",
              "      <td>Low</td>\n",
              "      <td>15-20</td>\n",
              "    </tr>\n",
              "    <tr>\n",
              "      <th>4</th>\n",
              "      <td>6</td>\n",
              "      <td>Nissan Micra Diesel XV</td>\n",
              "      <td>Jaipur</td>\n",
              "      <td>2013</td>\n",
              "      <td>86999</td>\n",
              "      <td>First</td>\n",
              "      <td>23.08</td>\n",
              "      <td>1461.0</td>\n",
              "      <td>63.10</td>\n",
              "      <td>5.0</td>\n",
              "      <td>3.50</td>\n",
              "      <td>1</td>\n",
              "      <td>0</td>\n",
              "      <td>0</td>\n",
              "      <td>0</td>\n",
              "      <td>1</td>\n",
              "      <td>11</td>\n",
              "      <td>Medium</td>\n",
              "      <td>&lt;5</td>\n",
              "    </tr>\n",
              "  </tbody>\n",
              "</table>\n",
              "</div>\n",
              "    <div class=\"colab-df-buttons\">\n",
              "\n",
              "  <div class=\"colab-df-container\">\n",
              "    <button class=\"colab-df-convert\" onclick=\"convertToInteractive('df-e932c2e9-fa77-437f-add2-e7ad44476f6f')\"\n",
              "            title=\"Convert this dataframe to an interactive table.\"\n",
              "            style=\"display:none;\">\n",
              "\n",
              "  <svg xmlns=\"http://www.w3.org/2000/svg\" height=\"24px\" viewBox=\"0 -960 960 960\">\n",
              "    <path d=\"M120-120v-720h720v720H120Zm60-500h600v-160H180v160Zm220 220h160v-160H400v160Zm0 220h160v-160H400v160ZM180-400h160v-160H180v160Zm440 0h160v-160H620v160ZM180-180h160v-160H180v160Zm440 0h160v-160H620v160Z\"/>\n",
              "  </svg>\n",
              "    </button>\n",
              "\n",
              "  <style>\n",
              "    .colab-df-container {\n",
              "      display:flex;\n",
              "      gap: 12px;\n",
              "    }\n",
              "\n",
              "    .colab-df-convert {\n",
              "      background-color: #E8F0FE;\n",
              "      border: none;\n",
              "      border-radius: 50%;\n",
              "      cursor: pointer;\n",
              "      display: none;\n",
              "      fill: #1967D2;\n",
              "      height: 32px;\n",
              "      padding: 0 0 0 0;\n",
              "      width: 32px;\n",
              "    }\n",
              "\n",
              "    .colab-df-convert:hover {\n",
              "      background-color: #E2EBFA;\n",
              "      box-shadow: 0px 1px 2px rgba(60, 64, 67, 0.3), 0px 1px 3px 1px rgba(60, 64, 67, 0.15);\n",
              "      fill: #174EA6;\n",
              "    }\n",
              "\n",
              "    .colab-df-buttons div {\n",
              "      margin-bottom: 4px;\n",
              "    }\n",
              "\n",
              "    [theme=dark] .colab-df-convert {\n",
              "      background-color: #3B4455;\n",
              "      fill: #D2E3FC;\n",
              "    }\n",
              "\n",
              "    [theme=dark] .colab-df-convert:hover {\n",
              "      background-color: #434B5C;\n",
              "      box-shadow: 0px 1px 3px 1px rgba(0, 0, 0, 0.15);\n",
              "      filter: drop-shadow(0px 1px 2px rgba(0, 0, 0, 0.3));\n",
              "      fill: #FFFFFF;\n",
              "    }\n",
              "  </style>\n",
              "\n",
              "    <script>\n",
              "      const buttonEl =\n",
              "        document.querySelector('#df-e932c2e9-fa77-437f-add2-e7ad44476f6f button.colab-df-convert');\n",
              "      buttonEl.style.display =\n",
              "        google.colab.kernel.accessAllowed ? 'block' : 'none';\n",
              "\n",
              "      async function convertToInteractive(key) {\n",
              "        const element = document.querySelector('#df-e932c2e9-fa77-437f-add2-e7ad44476f6f');\n",
              "        const dataTable =\n",
              "          await google.colab.kernel.invokeFunction('convertToInteractive',\n",
              "                                                    [key], {});\n",
              "        if (!dataTable) return;\n",
              "\n",
              "        const docLinkHtml = 'Like what you see? Visit the ' +\n",
              "          '<a target=\"_blank\" href=https://colab.research.google.com/notebooks/data_table.ipynb>data table notebook</a>'\n",
              "          + ' to learn more about interactive tables.';\n",
              "        element.innerHTML = '';\n",
              "        dataTable['output_type'] = 'display_data';\n",
              "        await google.colab.output.renderOutput(dataTable, element);\n",
              "        const docLink = document.createElement('div');\n",
              "        docLink.innerHTML = docLinkHtml;\n",
              "        element.appendChild(docLink);\n",
              "      }\n",
              "    </script>\n",
              "  </div>\n",
              "\n",
              "\n",
              "<div id=\"df-51746033-c7be-435b-a9f8-4b48d5bc6bb4\">\n",
              "  <button class=\"colab-df-quickchart\" onclick=\"quickchart('df-51746033-c7be-435b-a9f8-4b48d5bc6bb4')\"\n",
              "            title=\"Suggest charts\"\n",
              "            style=\"display:none;\">\n",
              "\n",
              "<svg xmlns=\"http://www.w3.org/2000/svg\" height=\"24px\"viewBox=\"0 0 24 24\"\n",
              "     width=\"24px\">\n",
              "    <g>\n",
              "        <path d=\"M19 3H5c-1.1 0-2 .9-2 2v14c0 1.1.9 2 2 2h14c1.1 0 2-.9 2-2V5c0-1.1-.9-2-2-2zM9 17H7v-7h2v7zm4 0h-2V7h2v10zm4 0h-2v-4h2v4z\"/>\n",
              "    </g>\n",
              "</svg>\n",
              "  </button>\n",
              "\n",
              "<style>\n",
              "  .colab-df-quickchart {\n",
              "      --bg-color: #E8F0FE;\n",
              "      --fill-color: #1967D2;\n",
              "      --hover-bg-color: #E2EBFA;\n",
              "      --hover-fill-color: #174EA6;\n",
              "      --disabled-fill-color: #AAA;\n",
              "      --disabled-bg-color: #DDD;\n",
              "  }\n",
              "\n",
              "  [theme=dark] .colab-df-quickchart {\n",
              "      --bg-color: #3B4455;\n",
              "      --fill-color: #D2E3FC;\n",
              "      --hover-bg-color: #434B5C;\n",
              "      --hover-fill-color: #FFFFFF;\n",
              "      --disabled-bg-color: #3B4455;\n",
              "      --disabled-fill-color: #666;\n",
              "  }\n",
              "\n",
              "  .colab-df-quickchart {\n",
              "    background-color: var(--bg-color);\n",
              "    border: none;\n",
              "    border-radius: 50%;\n",
              "    cursor: pointer;\n",
              "    display: none;\n",
              "    fill: var(--fill-color);\n",
              "    height: 32px;\n",
              "    padding: 0;\n",
              "    width: 32px;\n",
              "  }\n",
              "\n",
              "  .colab-df-quickchart:hover {\n",
              "    background-color: var(--hover-bg-color);\n",
              "    box-shadow: 0 1px 2px rgba(60, 64, 67, 0.3), 0 1px 3px 1px rgba(60, 64, 67, 0.15);\n",
              "    fill: var(--button-hover-fill-color);\n",
              "  }\n",
              "\n",
              "  .colab-df-quickchart-complete:disabled,\n",
              "  .colab-df-quickchart-complete:disabled:hover {\n",
              "    background-color: var(--disabled-bg-color);\n",
              "    fill: var(--disabled-fill-color);\n",
              "    box-shadow: none;\n",
              "  }\n",
              "\n",
              "  .colab-df-spinner {\n",
              "    border: 2px solid var(--fill-color);\n",
              "    border-color: transparent;\n",
              "    border-bottom-color: var(--fill-color);\n",
              "    animation:\n",
              "      spin 1s steps(1) infinite;\n",
              "  }\n",
              "\n",
              "  @keyframes spin {\n",
              "    0% {\n",
              "      border-color: transparent;\n",
              "      border-bottom-color: var(--fill-color);\n",
              "      border-left-color: var(--fill-color);\n",
              "    }\n",
              "    20% {\n",
              "      border-color: transparent;\n",
              "      border-left-color: var(--fill-color);\n",
              "      border-top-color: var(--fill-color);\n",
              "    }\n",
              "    30% {\n",
              "      border-color: transparent;\n",
              "      border-left-color: var(--fill-color);\n",
              "      border-top-color: var(--fill-color);\n",
              "      border-right-color: var(--fill-color);\n",
              "    }\n",
              "    40% {\n",
              "      border-color: transparent;\n",
              "      border-right-color: var(--fill-color);\n",
              "      border-top-color: var(--fill-color);\n",
              "    }\n",
              "    60% {\n",
              "      border-color: transparent;\n",
              "      border-right-color: var(--fill-color);\n",
              "    }\n",
              "    80% {\n",
              "      border-color: transparent;\n",
              "      border-right-color: var(--fill-color);\n",
              "      border-bottom-color: var(--fill-color);\n",
              "    }\n",
              "    90% {\n",
              "      border-color: transparent;\n",
              "      border-bottom-color: var(--fill-color);\n",
              "    }\n",
              "  }\n",
              "</style>\n",
              "\n",
              "  <script>\n",
              "    async function quickchart(key) {\n",
              "      const quickchartButtonEl =\n",
              "        document.querySelector('#' + key + ' button');\n",
              "      quickchartButtonEl.disabled = true;  // To prevent multiple clicks.\n",
              "      quickchartButtonEl.classList.add('colab-df-spinner');\n",
              "      try {\n",
              "        const charts = await google.colab.kernel.invokeFunction(\n",
              "            'suggestCharts', [key], {});\n",
              "      } catch (error) {\n",
              "        console.error('Error during call to suggestCharts:', error);\n",
              "      }\n",
              "      quickchartButtonEl.classList.remove('colab-df-spinner');\n",
              "      quickchartButtonEl.classList.add('colab-df-quickchart-complete');\n",
              "    }\n",
              "    (() => {\n",
              "      let quickchartButtonEl =\n",
              "        document.querySelector('#df-51746033-c7be-435b-a9f8-4b48d5bc6bb4 button');\n",
              "      quickchartButtonEl.style.display =\n",
              "        google.colab.kernel.accessAllowed ? 'block' : 'none';\n",
              "    })();\n",
              "  </script>\n",
              "</div>\n",
              "\n",
              "    </div>\n",
              "  </div>\n"
            ],
            "application/vnd.google.colaboratory.intrinsic+json": {
              "type": "dataframe",
              "variable_name": "raw_data",
              "summary": "{\n  \"name\": \"raw_data\",\n  \"rows\": 5847,\n  \"fields\": [\n    {\n      \"column\": \"Unnamed: 0\",\n      \"properties\": {\n        \"dtype\": \"number\",\n        \"std\": 1736,\n        \"min\": 1,\n        \"max\": 6018,\n        \"num_unique_values\": 5847,\n        \"samples\": [\n          5259,\n          3413,\n          4365\n        ],\n        \"semantic_type\": \"\",\n        \"description\": \"\"\n      }\n    },\n    {\n      \"column\": \"Name\",\n      \"properties\": {\n        \"dtype\": \"category\",\n        \"num_unique_values\": 1804,\n        \"samples\": [\n          \"BMW 7 Series 2007-2012 750Li\",\n          \"Maruti Ertiga SHVS VDI\",\n          \"Mahindra XUV300 W8 Diesel\"\n        ],\n        \"semantic_type\": \"\",\n        \"description\": \"\"\n      }\n    },\n    {\n      \"column\": \"Location\",\n      \"properties\": {\n        \"dtype\": \"category\",\n        \"num_unique_values\": 11,\n        \"samples\": [\n          \"Kochi\",\n          \"Pune\",\n          \"Hyderabad\"\n        ],\n        \"semantic_type\": \"\",\n        \"description\": \"\"\n      }\n    },\n    {\n      \"column\": \"Year\",\n      \"properties\": {\n        \"dtype\": \"number\",\n        \"std\": 3,\n        \"min\": 1998,\n        \"max\": 2019,\n        \"num_unique_values\": 22,\n        \"samples\": [\n          2015,\n          2006,\n          2010\n        ],\n        \"semantic_type\": \"\",\n        \"description\": \"\"\n      }\n    },\n    {\n      \"column\": \"Kilometers_Driven\",\n      \"properties\": {\n        \"dtype\": \"number\",\n        \"std\": 92379,\n        \"min\": 171,\n        \"max\": 6500000,\n        \"num_unique_values\": 3019,\n        \"samples\": [\n          56075,\n          75421,\n          143275\n        ],\n        \"semantic_type\": \"\",\n        \"description\": \"\"\n      }\n    },\n    {\n      \"column\": \"Owner_Type\",\n      \"properties\": {\n        \"dtype\": \"category\",\n        \"num_unique_values\": 4,\n        \"samples\": [\n          \"Second\",\n          \"Third\",\n          \"First\"\n        ],\n        \"semantic_type\": \"\",\n        \"description\": \"\"\n      }\n    },\n    {\n      \"column\": \"Mileage\",\n      \"properties\": {\n        \"dtype\": \"number\",\n        \"std\": 4.357500155609375,\n        \"min\": 0.0,\n        \"max\": 28.4,\n        \"num_unique_values\": 418,\n        \"samples\": [\n          15.74,\n          10.9,\n          19.68\n        ],\n        \"semantic_type\": \"\",\n        \"description\": \"\"\n      }\n    },\n    {\n      \"column\": \"Engine\",\n      \"properties\": {\n        \"dtype\": \"number\",\n        \"std\": 600.1162338504644,\n        \"min\": 72.0,\n        \"max\": 5998.0,\n        \"num_unique_values\": 141,\n        \"samples\": [\n          1794.0,\n          1172.0,\n          799.0\n        ],\n        \"semantic_type\": \"\",\n        \"description\": \"\"\n      }\n    },\n    {\n      \"column\": \"Power\",\n      \"properties\": {\n        \"dtype\": \"number\",\n        \"std\": 53.73051279234071,\n        \"min\": 34.2,\n        \"max\": 560.0,\n        \"num_unique_values\": 360,\n        \"samples\": [\n          158.0,\n          75.0,\n          200.0\n        ],\n        \"semantic_type\": \"\",\n        \"description\": \"\"\n      }\n    },\n    {\n      \"column\": \"Seats\",\n      \"properties\": {\n        \"dtype\": \"number\",\n        \"std\": 0.804042107982632,\n        \"min\": 2.0,\n        \"max\": 10.0,\n        \"num_unique_values\": 9,\n        \"samples\": [\n          10.0,\n          7.0,\n          2.0\n        ],\n        \"semantic_type\": \"\",\n        \"description\": \"\"\n      }\n    },\n    {\n      \"column\": \"Price\",\n      \"properties\": {\n        \"dtype\": \"number\",\n        \"std\": 11.275965706808474,\n        \"min\": 0.44,\n        \"max\": 160.0,\n        \"num_unique_values\": 1366,\n        \"samples\": [\n          3.98,\n          3.78,\n          4.24\n        ],\n        \"semantic_type\": \"\",\n        \"description\": \"\"\n      }\n    },\n    {\n      \"column\": \"Fuel_Type_Diesel\",\n      \"properties\": {\n        \"dtype\": \"uint8\",\n        \"num_unique_values\": 2,\n        \"samples\": [\n          0,\n          1\n        ],\n        \"semantic_type\": \"\",\n        \"description\": \"\"\n      }\n    },\n    {\n      \"column\": \"Fuel_Type_Electric\",\n      \"properties\": {\n        \"dtype\": \"uint8\",\n        \"num_unique_values\": 2,\n        \"samples\": [\n          1,\n          0\n        ],\n        \"semantic_type\": \"\",\n        \"description\": \"\"\n      }\n    },\n    {\n      \"column\": \"Fuel_Type_Petrol\",\n      \"properties\": {\n        \"dtype\": \"uint8\",\n        \"num_unique_values\": 2,\n        \"samples\": [\n          1,\n          0\n        ],\n        \"semantic_type\": \"\",\n        \"description\": \"\"\n      }\n    },\n    {\n      \"column\": \"Transmission_Automatic\",\n      \"properties\": {\n        \"dtype\": \"uint8\",\n        \"num_unique_values\": 2,\n        \"samples\": [\n          1,\n          0\n        ],\n        \"semantic_type\": \"\",\n        \"description\": \"\"\n      }\n    },\n    {\n      \"column\": \"Transmission_Manual\",\n      \"properties\": {\n        \"dtype\": \"uint8\",\n        \"num_unique_values\": 2,\n        \"samples\": [\n          0,\n          1\n        ],\n        \"semantic_type\": \"\",\n        \"description\": \"\"\n      }\n    },\n    {\n      \"column\": \"Years_in_Service\",\n      \"properties\": {\n        \"dtype\": \"number\",\n        \"std\": 3,\n        \"min\": 5,\n        \"max\": 26,\n        \"num_unique_values\": 22,\n        \"samples\": [\n          9,\n          18\n        ],\n        \"semantic_type\": \"\",\n        \"description\": \"\"\n      }\n    },\n    {\n      \"column\": \"Mileage_Category\",\n      \"properties\": {\n        \"dtype\": \"category\",\n        \"num_unique_values\": 3,\n        \"samples\": [\n          \"Low\",\n          \"Medium\"\n        ],\n        \"semantic_type\": \"\",\n        \"description\": \"\"\n      }\n    },\n    {\n      \"column\": \"Price_Category\",\n      \"properties\": {\n        \"dtype\": \"category\",\n        \"num_unique_values\": 6,\n        \"samples\": [\n          \"10-15\",\n          \"<5\"\n        ],\n        \"semantic_type\": \"\",\n        \"description\": \"\"\n      }\n    }\n  ]\n}"
            }
          },
          "metadata": {},
          "execution_count": 176
        }
      ]
    },
    {
      "cell_type": "code",
      "source": [
        "#Save the data into clean data csv\n",
        "raw_data.to_csv(\"/content/clean_data.csv\")"
      ],
      "metadata": {
        "id": "usKGieg_3M-P"
      },
      "execution_count": 177,
      "outputs": []
    }
  ],
  "metadata": {
    "kernelspec": {
      "display_name": "Python 3",
      "language": "python",
      "name": "python3"
    },
    "language_info": {
      "codemirror_mode": {
        "name": "ipython",
        "version": 3
      },
      "file_extension": ".py",
      "mimetype": "text/x-python",
      "name": "python",
      "nbconvert_exporter": "python",
      "pygments_lexer": "ipython3",
      "version": "3.12.0"
    },
    "colab": {
      "provenance": []
    }
  },
  "nbformat": 4,
  "nbformat_minor": 0
}